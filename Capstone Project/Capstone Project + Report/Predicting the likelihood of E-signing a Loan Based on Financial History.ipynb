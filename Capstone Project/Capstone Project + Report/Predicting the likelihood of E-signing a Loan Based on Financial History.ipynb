{
 "cells": [
  {
   "cell_type": "markdown",
   "metadata": {},
   "source": [
    "# I - Definition \n",
    "\n",
    "## Project Overview"
   ]
  },
  {
   "cell_type": "markdown",
   "metadata": {},
   "source": [
    "The project background is based on the analysis performed on potential customers or candidates in financial industry especially by investing firms and banks. Since banks are those institutions which generate most of their revenue by giving out loans hence it is very important to analyze potential customers which can contribute to generating targeted revenue in the banking industry. Since the fundamental background of customers differ from each other, hence it becomes of utmost importance to leverage machine learning to analyze financial history and background of the customers to generate meaningful and predictive insights from their data. \n",
    "\n",
    "Using machine learning, we can create Models that could predict or classify whether the customer will be interested in utilizing services and products offered by banks and hence efforts could be directed to engaging those customers and on the other hand predicted, less interested customers can be targeted with much better schemes or service rates that they couldn’t refuse to the offers made to them. \n",
    "\n",
    "\n",
    "## Problem Statement"
   ]
  },
  {
   "cell_type": "markdown",
   "metadata": {},
   "source": [
    "The problem statement is to classify customers of a financial institution so as to find that they would be interested in signing E-loan services offered or not by a financial bank or a firm, keeping in mind the financial history of customers. To process each of the customer’s financial background manually, would not simply suffice, hence this problem requires a supervised machine learning model that can learn from the existing data and make predictions for the customers. The financial parameters such as their age, years of employment, debt etc. could be utilized as input features for the learning model. A classification supervised learning model shall be developed to classify customers to segregate them into 2 categories: those who will sign the E-loan and those who wouldn’t. The final model shall be evaluated on accuracy and f1_score majorly as evaluating metrics and will then be ready for operating upon new incoming customer’s data.\n"
   ]
  },
  {
   "cell_type": "markdown",
   "metadata": {},
   "source": [
    "## Metrics\n",
    "\n",
    "\n",
    "The model shall be evaluated on the basis of accuracy metric where \n",
    "•\tAccuracy = (true positives + true negatives)/(true positives + true negatives + false positives +false negatives). \n",
    "More the evaluated accuracy, more is the success of the classification model which means that the model more accurately classifies the customers into the categories of signing or not signing the E-loan. The classification report for the model shall also generate the evaluation of precision and recall scores too. Also we shall evaluate f1 score because f1-score mathematically represents the balance between precision and recall scores as\n",
    "\n",
    "•\tF1-score = (2 * precision * recall)/(precision + recall) "
   ]
  },
  {
   "cell_type": "code",
   "execution_count": 2,
   "metadata": {},
   "outputs": [],
   "source": [
    "# importing libraries :\n",
    "\n",
    "import pandas as pd\n",
    "import numpy as np\n",
    "from matplotlib import pyplot as plt\n",
    "import seaborn as sns\n",
    "from time import time\n",
    "\n",
    "np.set_printoptions(suppress=True)\n",
    "\n",
    "%matplotlib inline"
   ]
  },
  {
   "cell_type": "code",
   "execution_count": 3,
   "metadata": {},
   "outputs": [],
   "source": [
    "# importing the dataset :\n",
    "\n",
    "dataset = pd.read_csv(r\"E:\\Codes At Learning\\DataScience with Python\\Udacity Machine Learning Engineer Nanodegree\\Capstone Project\\financial_data.csv\")"
   ]
  },
  {
   "cell_type": "code",
   "execution_count": 62,
   "metadata": {},
   "outputs": [
    {
     "data": {
      "text/html": [
       "<div>\n",
       "<style scoped>\n",
       "    .dataframe tbody tr th:only-of-type {\n",
       "        vertical-align: middle;\n",
       "    }\n",
       "\n",
       "    .dataframe tbody tr th {\n",
       "        vertical-align: top;\n",
       "    }\n",
       "\n",
       "    .dataframe thead th {\n",
       "        text-align: right;\n",
       "    }\n",
       "</style>\n",
       "<table border=\"1\" class=\"dataframe\">\n",
       "  <thead>\n",
       "    <tr style=\"text-align: right;\">\n",
       "      <th></th>\n",
       "      <th>age</th>\n",
       "      <th>home_owner</th>\n",
       "      <th>income</th>\n",
       "      <th>current_address_year</th>\n",
       "      <th>has_debt</th>\n",
       "      <th>amount_requested</th>\n",
       "      <th>risk_score</th>\n",
       "      <th>risk_score_2</th>\n",
       "      <th>risk_score_3</th>\n",
       "      <th>risk_score_4</th>\n",
       "      <th>...</th>\n",
       "      <th>ext_quality_score</th>\n",
       "      <th>ext_quality_score_2</th>\n",
       "      <th>inquiries_last_month</th>\n",
       "      <th>e_signed</th>\n",
       "      <th>pay_schedule_bi-weekly</th>\n",
       "      <th>pay_schedule_monthly</th>\n",
       "      <th>pay_schedule_semi-monthly</th>\n",
       "      <th>pay_schedule_weekly</th>\n",
       "      <th>total_months_employed</th>\n",
       "      <th>total_months_account</th>\n",
       "    </tr>\n",
       "  </thead>\n",
       "  <tbody>\n",
       "    <tr>\n",
       "      <th>0</th>\n",
       "      <td>40</td>\n",
       "      <td>1</td>\n",
       "      <td>3135</td>\n",
       "      <td>3</td>\n",
       "      <td>1</td>\n",
       "      <td>550</td>\n",
       "      <td>36200</td>\n",
       "      <td>0.737398</td>\n",
       "      <td>0.903517</td>\n",
       "      <td>0.487712</td>\n",
       "      <td>...</td>\n",
       "      <td>0.580918</td>\n",
       "      <td>0.380918</td>\n",
       "      <td>10</td>\n",
       "      <td>1</td>\n",
       "      <td>1</td>\n",
       "      <td>0</td>\n",
       "      <td>0</td>\n",
       "      <td>0</td>\n",
       "      <td>36</td>\n",
       "      <td>30</td>\n",
       "    </tr>\n",
       "    <tr>\n",
       "      <th>1</th>\n",
       "      <td>61</td>\n",
       "      <td>0</td>\n",
       "      <td>3180</td>\n",
       "      <td>3</td>\n",
       "      <td>1</td>\n",
       "      <td>600</td>\n",
       "      <td>30150</td>\n",
       "      <td>0.738510</td>\n",
       "      <td>0.881027</td>\n",
       "      <td>0.713423</td>\n",
       "      <td>...</td>\n",
       "      <td>0.730720</td>\n",
       "      <td>0.630720</td>\n",
       "      <td>9</td>\n",
       "      <td>0</td>\n",
       "      <td>0</td>\n",
       "      <td>0</td>\n",
       "      <td>0</td>\n",
       "      <td>1</td>\n",
       "      <td>72</td>\n",
       "      <td>86</td>\n",
       "    </tr>\n",
       "    <tr>\n",
       "      <th>2</th>\n",
       "      <td>23</td>\n",
       "      <td>0</td>\n",
       "      <td>1540</td>\n",
       "      <td>0</td>\n",
       "      <td>1</td>\n",
       "      <td>450</td>\n",
       "      <td>34550</td>\n",
       "      <td>0.642993</td>\n",
       "      <td>0.766554</td>\n",
       "      <td>0.595018</td>\n",
       "      <td>...</td>\n",
       "      <td>0.531712</td>\n",
       "      <td>0.531712</td>\n",
       "      <td>7</td>\n",
       "      <td>0</td>\n",
       "      <td>0</td>\n",
       "      <td>0</td>\n",
       "      <td>0</td>\n",
       "      <td>1</td>\n",
       "      <td>6</td>\n",
       "      <td>19</td>\n",
       "    </tr>\n",
       "  </tbody>\n",
       "</table>\n",
       "<p>3 rows × 21 columns</p>\n",
       "</div>"
      ],
      "text/plain": [
       "   age  home_owner  income  current_address_year  has_debt  amount_requested  \\\n",
       "0   40           1    3135                     3         1               550   \n",
       "1   61           0    3180                     3         1               600   \n",
       "2   23           0    1540                     0         1               450   \n",
       "\n",
       "   risk_score  risk_score_2  risk_score_3  risk_score_4          ...           \\\n",
       "0       36200      0.737398      0.903517      0.487712          ...            \n",
       "1       30150      0.738510      0.881027      0.713423          ...            \n",
       "2       34550      0.642993      0.766554      0.595018          ...            \n",
       "\n",
       "   ext_quality_score  ext_quality_score_2  inquiries_last_month  e_signed  \\\n",
       "0           0.580918             0.380918                    10         1   \n",
       "1           0.730720             0.630720                     9         0   \n",
       "2           0.531712             0.531712                     7         0   \n",
       "\n",
       "   pay_schedule_bi-weekly  pay_schedule_monthly  pay_schedule_semi-monthly  \\\n",
       "0                       1                     0                          0   \n",
       "1                       0                     0                          0   \n",
       "2                       0                     0                          0   \n",
       "\n",
       "   pay_schedule_weekly  total_months_employed  total_months_account  \n",
       "0                    0                     36                    30  \n",
       "1                    1                     72                    86  \n",
       "2                    1                      6                    19  \n",
       "\n",
       "[3 rows x 21 columns]"
      ]
     },
     "execution_count": 62,
     "metadata": {},
     "output_type": "execute_result"
    }
   ],
   "source": [
    "# viewing first 3 rows of the dataset\n",
    "\n",
    "dataset.head(3)"
   ]
  },
  {
   "cell_type": "markdown",
   "metadata": {},
   "source": [
    "# II - Analysis"
   ]
  },
  {
   "cell_type": "code",
   "execution_count": 63,
   "metadata": {},
   "outputs": [
    {
     "data": {
      "text/plain": [
       "(17908, 21)"
      ]
     },
     "execution_count": 63,
     "metadata": {},
     "output_type": "execute_result"
    }
   ],
   "source": [
    "# dataset shape :\n",
    "\n",
    "dataset.shape"
   ]
  },
  {
   "cell_type": "code",
   "execution_count": 6,
   "metadata": {},
   "outputs": [
    {
     "data": {
      "text/plain": [
       "<matplotlib.axes._subplots.AxesSubplot at 0x5698470>"
      ]
     },
     "execution_count": 6,
     "metadata": {},
     "output_type": "execute_result"
    },
    {
     "data": {
      "image/png": "[encoded data removed]",
      "text/plain": [
       "<Figure size 1080x360 with 2 Axes>"
      ]
     },
     "metadata": {
      "needs_background": "light"
     },
     "output_type": "display_data"
    }
   ],
   "source": [
    "# viewing the null parts if any, using seaborn library :\n",
    "\n",
    "plt.figure(figsize=(15, 5))\n",
    "sns.heatmap(dataset.isnull(), cmap='viridis')"
   ]
  },
  {
   "cell_type": "code",
   "execution_count": 7,
   "metadata": {},
   "outputs": [],
   "source": [
    "# No null values contained in the dataset"
   ]
  },
  {
   "cell_type": "code",
   "execution_count": 8,
   "metadata": {},
   "outputs": [],
   "source": [
    "# The features entry_id is not of any importance to our analysis hence dropping this feature :\n",
    "\n",
    "dataset = dataset.drop(columns=['entry_id'])"
   ]
  },
  {
   "cell_type": "code",
   "execution_count": 9,
   "metadata": {},
   "outputs": [
    {
     "data": {
      "text/plain": [
       "array(['bi-weekly', 'weekly', 'semi-monthly', 'monthly'], dtype=object)"
      ]
     },
     "execution_count": 9,
     "metadata": {},
     "output_type": "execute_result"
    }
   ],
   "source": [
    "dataset['pay_schedule'].unique()"
   ]
  },
  {
   "cell_type": "code",
   "execution_count": 10,
   "metadata": {},
   "outputs": [],
   "source": [
    "# Encoding the 'pay_schedule' feature :\n",
    "\n",
    "dataset = pd.get_dummies(dataset)"
   ]
  },
  {
   "cell_type": "code",
   "execution_count": 11,
   "metadata": {},
   "outputs": [],
   "source": [
    "# combining 'months_employed' and 'years_employed' into one single feature :\n",
    "\n",
    "dataset['total_months_employed'] = dataset['months_employed'] + dataset['years_employed']*12\n",
    "dataset = dataset.drop(columns=['months_employed', 'years_employed'])"
   ]
  },
  {
   "cell_type": "code",
   "execution_count": 12,
   "metadata": {},
   "outputs": [],
   "source": [
    "# combining 'personal_account_m' and 'personal_account_y' into one single feature :\n",
    "\n",
    "dataset['total_months_account'] = dataset['personal_account_m'] + dataset['personal_account_y']*12\n",
    "dataset = dataset.drop(columns=['personal_account_m', 'personal_account_y'])"
   ]
  },
  {
   "cell_type": "code",
   "execution_count": 13,
   "metadata": {},
   "outputs": [
    {
     "data": {
      "text/html": [
       "<div>\n",
       "<style scoped>\n",
       "    .dataframe tbody tr th:only-of-type {\n",
       "        vertical-align: middle;\n",
       "    }\n",
       "\n",
       "    .dataframe tbody tr th {\n",
       "        vertical-align: top;\n",
       "    }\n",
       "\n",
       "    .dataframe thead th {\n",
       "        text-align: right;\n",
       "    }\n",
       "</style>\n",
       "<table border=\"1\" class=\"dataframe\">\n",
       "  <thead>\n",
       "    <tr style=\"text-align: right;\">\n",
       "      <th></th>\n",
       "      <th>age</th>\n",
       "      <th>home_owner</th>\n",
       "      <th>income</th>\n",
       "      <th>current_address_year</th>\n",
       "      <th>has_debt</th>\n",
       "      <th>amount_requested</th>\n",
       "      <th>risk_score</th>\n",
       "      <th>risk_score_2</th>\n",
       "      <th>risk_score_3</th>\n",
       "      <th>risk_score_4</th>\n",
       "      <th>...</th>\n",
       "      <th>ext_quality_score</th>\n",
       "      <th>ext_quality_score_2</th>\n",
       "      <th>inquiries_last_month</th>\n",
       "      <th>e_signed</th>\n",
       "      <th>pay_schedule_bi-weekly</th>\n",
       "      <th>pay_schedule_monthly</th>\n",
       "      <th>pay_schedule_semi-monthly</th>\n",
       "      <th>pay_schedule_weekly</th>\n",
       "      <th>total_months_employed</th>\n",
       "      <th>total_months_account</th>\n",
       "    </tr>\n",
       "  </thead>\n",
       "  <tbody>\n",
       "    <tr>\n",
       "      <th>0</th>\n",
       "      <td>40</td>\n",
       "      <td>1</td>\n",
       "      <td>3135</td>\n",
       "      <td>3</td>\n",
       "      <td>1</td>\n",
       "      <td>550</td>\n",
       "      <td>36200</td>\n",
       "      <td>0.737398</td>\n",
       "      <td>0.903517</td>\n",
       "      <td>0.487712</td>\n",
       "      <td>...</td>\n",
       "      <td>0.580918</td>\n",
       "      <td>0.380918</td>\n",
       "      <td>10</td>\n",
       "      <td>1</td>\n",
       "      <td>1</td>\n",
       "      <td>0</td>\n",
       "      <td>0</td>\n",
       "      <td>0</td>\n",
       "      <td>36</td>\n",
       "      <td>30</td>\n",
       "    </tr>\n",
       "    <tr>\n",
       "      <th>1</th>\n",
       "      <td>61</td>\n",
       "      <td>0</td>\n",
       "      <td>3180</td>\n",
       "      <td>3</td>\n",
       "      <td>1</td>\n",
       "      <td>600</td>\n",
       "      <td>30150</td>\n",
       "      <td>0.738510</td>\n",
       "      <td>0.881027</td>\n",
       "      <td>0.713423</td>\n",
       "      <td>...</td>\n",
       "      <td>0.730720</td>\n",
       "      <td>0.630720</td>\n",
       "      <td>9</td>\n",
       "      <td>0</td>\n",
       "      <td>0</td>\n",
       "      <td>0</td>\n",
       "      <td>0</td>\n",
       "      <td>1</td>\n",
       "      <td>72</td>\n",
       "      <td>86</td>\n",
       "    </tr>\n",
       "    <tr>\n",
       "      <th>2</th>\n",
       "      <td>23</td>\n",
       "      <td>0</td>\n",
       "      <td>1540</td>\n",
       "      <td>0</td>\n",
       "      <td>1</td>\n",
       "      <td>450</td>\n",
       "      <td>34550</td>\n",
       "      <td>0.642993</td>\n",
       "      <td>0.766554</td>\n",
       "      <td>0.595018</td>\n",
       "      <td>...</td>\n",
       "      <td>0.531712</td>\n",
       "      <td>0.531712</td>\n",
       "      <td>7</td>\n",
       "      <td>0</td>\n",
       "      <td>0</td>\n",
       "      <td>0</td>\n",
       "      <td>0</td>\n",
       "      <td>1</td>\n",
       "      <td>6</td>\n",
       "      <td>19</td>\n",
       "    </tr>\n",
       "  </tbody>\n",
       "</table>\n",
       "<p>3 rows × 21 columns</p>\n",
       "</div>"
      ],
      "text/plain": [
       "   age  home_owner  income  current_address_year  has_debt  amount_requested  \\\n",
       "0   40           1    3135                     3         1               550   \n",
       "1   61           0    3180                     3         1               600   \n",
       "2   23           0    1540                     0         1               450   \n",
       "\n",
       "   risk_score  risk_score_2  risk_score_3  risk_score_4          ...           \\\n",
       "0       36200      0.737398      0.903517      0.487712          ...            \n",
       "1       30150      0.738510      0.881027      0.713423          ...            \n",
       "2       34550      0.642993      0.766554      0.595018          ...            \n",
       "\n",
       "   ext_quality_score  ext_quality_score_2  inquiries_last_month  e_signed  \\\n",
       "0           0.580918             0.380918                    10         1   \n",
       "1           0.730720             0.630720                     9         0   \n",
       "2           0.531712             0.531712                     7         0   \n",
       "\n",
       "   pay_schedule_bi-weekly  pay_schedule_monthly  pay_schedule_semi-monthly  \\\n",
       "0                       1                     0                          0   \n",
       "1                       0                     0                          0   \n",
       "2                       0                     0                          0   \n",
       "\n",
       "   pay_schedule_weekly  total_months_employed  total_months_account  \n",
       "0                    0                     36                    30  \n",
       "1                    1                     72                    86  \n",
       "2                    1                      6                    19  \n",
       "\n",
       "[3 rows x 21 columns]"
      ]
     },
     "execution_count": 13,
     "metadata": {},
     "output_type": "execute_result"
    }
   ],
   "source": [
    "# cleaned dataset as of now :\n",
    "\n",
    "dataset.head(3)"
   ]
  },
  {
   "cell_type": "markdown",
   "metadata": {},
   "source": [
    "The dataset is now concluded to be cleaned hence we can proceed to the analysis part with our data being analytics ready"
   ]
  },
  {
   "cell_type": "markdown",
   "metadata": {},
   "source": [
    "## Data Exploration"
   ]
  },
  {
   "cell_type": "code",
   "execution_count": 14,
   "metadata": {},
   "outputs": [
    {
     "data": {
      "text/html": [
       "<div>\n",
       "<style scoped>\n",
       "    .dataframe tbody tr th:only-of-type {\n",
       "        vertical-align: middle;\n",
       "    }\n",
       "\n",
       "    .dataframe tbody tr th {\n",
       "        vertical-align: top;\n",
       "    }\n",
       "\n",
       "    .dataframe thead th {\n",
       "        text-align: right;\n",
       "    }\n",
       "</style>\n",
       "<table border=\"1\" class=\"dataframe\">\n",
       "  <thead>\n",
       "    <tr style=\"text-align: right;\">\n",
       "      <th></th>\n",
       "      <th>age</th>\n",
       "      <th>home_owner</th>\n",
       "      <th>income</th>\n",
       "      <th>current_address_year</th>\n",
       "      <th>has_debt</th>\n",
       "      <th>amount_requested</th>\n",
       "      <th>risk_score</th>\n",
       "      <th>risk_score_2</th>\n",
       "      <th>risk_score_3</th>\n",
       "      <th>risk_score_4</th>\n",
       "      <th>...</th>\n",
       "      <th>ext_quality_score</th>\n",
       "      <th>ext_quality_score_2</th>\n",
       "      <th>inquiries_last_month</th>\n",
       "      <th>e_signed</th>\n",
       "      <th>pay_schedule_bi-weekly</th>\n",
       "      <th>pay_schedule_monthly</th>\n",
       "      <th>pay_schedule_semi-monthly</th>\n",
       "      <th>pay_schedule_weekly</th>\n",
       "      <th>total_months_employed</th>\n",
       "      <th>total_months_account</th>\n",
       "    </tr>\n",
       "  </thead>\n",
       "  <tbody>\n",
       "    <tr>\n",
       "      <th>count</th>\n",
       "      <td>17908.000000</td>\n",
       "      <td>17908.000000</td>\n",
       "      <td>17908.000000</td>\n",
       "      <td>17908.000000</td>\n",
       "      <td>17908.000000</td>\n",
       "      <td>17908.000000</td>\n",
       "      <td>17908.000000</td>\n",
       "      <td>17908.000000</td>\n",
       "      <td>17908.000000</td>\n",
       "      <td>17908.000000</td>\n",
       "      <td>...</td>\n",
       "      <td>17908.000000</td>\n",
       "      <td>17908.000000</td>\n",
       "      <td>17908.000000</td>\n",
       "      <td>17908.000000</td>\n",
       "      <td>17908.000000</td>\n",
       "      <td>17908.000000</td>\n",
       "      <td>17908.000000</td>\n",
       "      <td>17908.000000</td>\n",
       "      <td>17908.000000</td>\n",
       "      <td>17908.000000</td>\n",
       "    </tr>\n",
       "    <tr>\n",
       "      <th>mean</th>\n",
       "      <td>43.015412</td>\n",
       "      <td>0.425173</td>\n",
       "      <td>3657.214653</td>\n",
       "      <td>3.584711</td>\n",
       "      <td>0.795399</td>\n",
       "      <td>950.446449</td>\n",
       "      <td>61086.302211</td>\n",
       "      <td>0.690878</td>\n",
       "      <td>0.878276</td>\n",
       "      <td>0.583155</td>\n",
       "      <td>...</td>\n",
       "      <td>0.623112</td>\n",
       "      <td>0.622068</td>\n",
       "      <td>6.457226</td>\n",
       "      <td>0.538251</td>\n",
       "      <td>0.598392</td>\n",
       "      <td>0.083315</td>\n",
       "      <td>0.111905</td>\n",
       "      <td>0.206388</td>\n",
       "      <td>43.508320</td>\n",
       "      <td>45.467389</td>\n",
       "    </tr>\n",
       "    <tr>\n",
       "      <th>std</th>\n",
       "      <td>11.873107</td>\n",
       "      <td>0.494383</td>\n",
       "      <td>1504.890063</td>\n",
       "      <td>2.751937</td>\n",
       "      <td>0.403421</td>\n",
       "      <td>698.543683</td>\n",
       "      <td>15394.255020</td>\n",
       "      <td>0.090470</td>\n",
       "      <td>0.054563</td>\n",
       "      <td>0.125061</td>\n",
       "      <td>...</td>\n",
       "      <td>0.139729</td>\n",
       "      <td>0.139898</td>\n",
       "      <td>3.673093</td>\n",
       "      <td>0.498549</td>\n",
       "      <td>0.490237</td>\n",
       "      <td>0.276365</td>\n",
       "      <td>0.315259</td>\n",
       "      <td>0.404724</td>\n",
       "      <td>26.765085</td>\n",
       "      <td>23.258829</td>\n",
       "    </tr>\n",
       "    <tr>\n",
       "      <th>min</th>\n",
       "      <td>18.000000</td>\n",
       "      <td>0.000000</td>\n",
       "      <td>905.000000</td>\n",
       "      <td>0.000000</td>\n",
       "      <td>0.000000</td>\n",
       "      <td>350.000000</td>\n",
       "      <td>2100.000000</td>\n",
       "      <td>0.023258</td>\n",
       "      <td>0.451371</td>\n",
       "      <td>0.016724</td>\n",
       "      <td>...</td>\n",
       "      <td>0.010184</td>\n",
       "      <td>0.006622</td>\n",
       "      <td>1.000000</td>\n",
       "      <td>0.000000</td>\n",
       "      <td>0.000000</td>\n",
       "      <td>0.000000</td>\n",
       "      <td>0.000000</td>\n",
       "      <td>0.000000</td>\n",
       "      <td>0.000000</td>\n",
       "      <td>0.000000</td>\n",
       "    </tr>\n",
       "    <tr>\n",
       "      <th>25%</th>\n",
       "      <td>34.000000</td>\n",
       "      <td>0.000000</td>\n",
       "      <td>2580.000000</td>\n",
       "      <td>2.000000</td>\n",
       "      <td>1.000000</td>\n",
       "      <td>600.000000</td>\n",
       "      <td>49350.000000</td>\n",
       "      <td>0.640993</td>\n",
       "      <td>0.850882</td>\n",
       "      <td>0.500208</td>\n",
       "      <td>...</td>\n",
       "      <td>0.521735</td>\n",
       "      <td>0.519677</td>\n",
       "      <td>4.000000</td>\n",
       "      <td>0.000000</td>\n",
       "      <td>0.000000</td>\n",
       "      <td>0.000000</td>\n",
       "      <td>0.000000</td>\n",
       "      <td>0.000000</td>\n",
       "      <td>24.000000</td>\n",
       "      <td>29.000000</td>\n",
       "    </tr>\n",
       "    <tr>\n",
       "      <th>50%</th>\n",
       "      <td>42.000000</td>\n",
       "      <td>0.000000</td>\n",
       "      <td>3260.000000</td>\n",
       "      <td>3.000000</td>\n",
       "      <td>1.000000</td>\n",
       "      <td>700.000000</td>\n",
       "      <td>61200.000000</td>\n",
       "      <td>0.699561</td>\n",
       "      <td>0.881004</td>\n",
       "      <td>0.588208</td>\n",
       "      <td>...</td>\n",
       "      <td>0.625944</td>\n",
       "      <td>0.622974</td>\n",
       "      <td>6.000000</td>\n",
       "      <td>1.000000</td>\n",
       "      <td>1.000000</td>\n",
       "      <td>0.000000</td>\n",
       "      <td>0.000000</td>\n",
       "      <td>0.000000</td>\n",
       "      <td>36.000000</td>\n",
       "      <td>40.000000</td>\n",
       "    </tr>\n",
       "    <tr>\n",
       "      <th>75%</th>\n",
       "      <td>51.000000</td>\n",
       "      <td>1.000000</td>\n",
       "      <td>4670.000000</td>\n",
       "      <td>5.000000</td>\n",
       "      <td>1.000000</td>\n",
       "      <td>1100.000000</td>\n",
       "      <td>72750.000000</td>\n",
       "      <td>0.752887</td>\n",
       "      <td>0.912608</td>\n",
       "      <td>0.672395</td>\n",
       "      <td>...</td>\n",
       "      <td>0.729841</td>\n",
       "      <td>0.728940</td>\n",
       "      <td>8.000000</td>\n",
       "      <td>1.000000</td>\n",
       "      <td>1.000000</td>\n",
       "      <td>0.000000</td>\n",
       "      <td>0.000000</td>\n",
       "      <td>0.000000</td>\n",
       "      <td>60.000000</td>\n",
       "      <td>54.000000</td>\n",
       "    </tr>\n",
       "    <tr>\n",
       "      <th>max</th>\n",
       "      <td>96.000000</td>\n",
       "      <td>1.000000</td>\n",
       "      <td>9985.000000</td>\n",
       "      <td>12.000000</td>\n",
       "      <td>1.000000</td>\n",
       "      <td>10200.000000</td>\n",
       "      <td>99750.000000</td>\n",
       "      <td>0.999997</td>\n",
       "      <td>0.999024</td>\n",
       "      <td>0.978932</td>\n",
       "      <td>...</td>\n",
       "      <td>0.970249</td>\n",
       "      <td>0.966953</td>\n",
       "      <td>30.000000</td>\n",
       "      <td>1.000000</td>\n",
       "      <td>1.000000</td>\n",
       "      <td>1.000000</td>\n",
       "      <td>1.000000</td>\n",
       "      <td>1.000000</td>\n",
       "      <td>201.000000</td>\n",
       "      <td>183.000000</td>\n",
       "    </tr>\n",
       "  </tbody>\n",
       "</table>\n",
       "<p>8 rows × 21 columns</p>\n",
       "</div>"
      ],
      "text/plain": [
       "                age    home_owner        income  current_address_year  \\\n",
       "count  17908.000000  17908.000000  17908.000000          17908.000000   \n",
       "mean      43.015412      0.425173   3657.214653              3.584711   \n",
       "std       11.873107      0.494383   1504.890063              2.751937   \n",
       "min       18.000000      0.000000    905.000000              0.000000   \n",
       "25%       34.000000      0.000000   2580.000000              2.000000   \n",
       "50%       42.000000      0.000000   3260.000000              3.000000   \n",
       "75%       51.000000      1.000000   4670.000000              5.000000   \n",
       "max       96.000000      1.000000   9985.000000             12.000000   \n",
       "\n",
       "           has_debt  amount_requested    risk_score  risk_score_2  \\\n",
       "count  17908.000000      17908.000000  17908.000000  17908.000000   \n",
       "mean       0.795399        950.446449  61086.302211      0.690878   \n",
       "std        0.403421        698.543683  15394.255020      0.090470   \n",
       "min        0.000000        350.000000   2100.000000      0.023258   \n",
       "25%        1.000000        600.000000  49350.000000      0.640993   \n",
       "50%        1.000000        700.000000  61200.000000      0.699561   \n",
       "75%        1.000000       1100.000000  72750.000000      0.752887   \n",
       "max        1.000000      10200.000000  99750.000000      0.999997   \n",
       "\n",
       "       risk_score_3  risk_score_4          ...           ext_quality_score  \\\n",
       "count  17908.000000  17908.000000          ...                17908.000000   \n",
       "mean       0.878276      0.583155          ...                    0.623112   \n",
       "std        0.054563      0.125061          ...                    0.139729   \n",
       "min        0.451371      0.016724          ...                    0.010184   \n",
       "25%        0.850882      0.500208          ...                    0.521735   \n",
       "50%        0.881004      0.588208          ...                    0.625944   \n",
       "75%        0.912608      0.672395          ...                    0.729841   \n",
       "max        0.999024      0.978932          ...                    0.970249   \n",
       "\n",
       "       ext_quality_score_2  inquiries_last_month      e_signed  \\\n",
       "count         17908.000000          17908.000000  17908.000000   \n",
       "mean              0.622068              6.457226      0.538251   \n",
       "std               0.139898              3.673093      0.498549   \n",
       "min               0.006622              1.000000      0.000000   \n",
       "25%               0.519677              4.000000      0.000000   \n",
       "50%               0.622974              6.000000      1.000000   \n",
       "75%               0.728940              8.000000      1.000000   \n",
       "max               0.966953             30.000000      1.000000   \n",
       "\n",
       "       pay_schedule_bi-weekly  pay_schedule_monthly  \\\n",
       "count            17908.000000          17908.000000   \n",
       "mean                 0.598392              0.083315   \n",
       "std                  0.490237              0.276365   \n",
       "min                  0.000000              0.000000   \n",
       "25%                  0.000000              0.000000   \n",
       "50%                  1.000000              0.000000   \n",
       "75%                  1.000000              0.000000   \n",
       "max                  1.000000              1.000000   \n",
       "\n",
       "       pay_schedule_semi-monthly  pay_schedule_weekly  total_months_employed  \\\n",
       "count               17908.000000         17908.000000           17908.000000   \n",
       "mean                    0.111905             0.206388              43.508320   \n",
       "std                     0.315259             0.404724              26.765085   \n",
       "min                     0.000000             0.000000               0.000000   \n",
       "25%                     0.000000             0.000000              24.000000   \n",
       "50%                     0.000000             0.000000              36.000000   \n",
       "75%                     0.000000             0.000000              60.000000   \n",
       "max                     1.000000             1.000000             201.000000   \n",
       "\n",
       "       total_months_account  \n",
       "count          17908.000000  \n",
       "mean              45.467389  \n",
       "std               23.258829  \n",
       "min                0.000000  \n",
       "25%               29.000000  \n",
       "50%               40.000000  \n",
       "75%               54.000000  \n",
       "max              183.000000  \n",
       "\n",
       "[8 rows x 21 columns]"
      ]
     },
     "execution_count": 14,
     "metadata": {},
     "output_type": "execute_result"
    }
   ],
   "source": [
    "# dataset statistical describing using pandas library\n",
    "\n",
    "dataset.describe()"
   ]
  },
  {
   "cell_type": "markdown",
   "metadata": {},
   "source": [
    "## Exploratory Visualization"
   ]
  },
  {
   "cell_type": "code",
   "execution_count": 16,
   "metadata": {},
   "outputs": [
    {
     "name": "stderr",
     "output_type": "stream",
     "text": [
      "c:\\users\\shubhendra kumar\\appdata\\local\\programs\\python\\python37-32\\lib\\site-packages\\scipy\\stats\\stats.py:1713: FutureWarning: Using a non-tuple sequence for multidimensional indexing is deprecated; use `arr[tuple(seq)]` instead of `arr[seq]`. In the future this will be interpreted as an array index, `arr[np.array(seq)]`, which will result either in an error or a different result.\n",
      "  return np.add.reduce(sorted[indexer] * weights, axis=axis) / sumval\n"
     ]
    },
    {
     "data": {
      "image/png": "[encoded data removed]",
      "text/plain": [
       "<Figure size 1440x1224 with 21 Axes>"
      ]
     },
     "metadata": {
      "needs_background": "light"
     },
     "output_type": "display_data"
    }
   ],
   "source": [
    "# Data distribution for the features :\n",
    "\n",
    "fig = plt.figure(figsize=(20, 17))\n",
    "plt.suptitle('Distribution of the features', fontsize=20)\n",
    "\n",
    "for i in range(dataset.shape[1]):\n",
    "    plt.subplot(7, 3, i+1)\n",
    "    sns.distplot(dataset[dataset.columns[i]], color='blue', kde=False)\n",
    "    \n",
    "plt.tight_layout(rect=[0, 0.03, 1, 0.95])"
   ]
  },
  {
   "cell_type": "code",
   "execution_count": 61,
   "metadata": {},
   "outputs": [
    {
     "data": {
      "text/plain": [
       "Text(0.5, 1.0, 'CORRELATION OF THE E-SIGNED FACTOR WITH ALL OTHER')"
      ]
     },
     "execution_count": 61,
     "metadata": {},
     "output_type": "execute_result"
    },
    {
     "data": {
      "image/png": "[encoded data removed]",
      "text/plain": [
       "<Figure size 1440x504 with 1 Axes>"
      ]
     },
     "metadata": {
      "needs_background": "light"
     },
     "output_type": "display_data"
    }
   ],
   "source": [
    "# Understanding correlation between other features and 'e_signed':\n",
    "\n",
    "corr_df = pd.DataFrame(dataset.drop(columns=['e_signed']).corrwith(dataset['e_signed']), columns=['correlation']).reset_index()\n",
    "plt.figure(figsize=(20, 7))\n",
    "sns.barplot(x=corr_df['index'], y=corr_df['correlation'])\n",
    "plt.xticks(rotation=45)\n",
    "plt.title(\"CORRELATION OF THE E-SIGNED FACTOR WITH ALL OTHER\")"
   ]
  },
  {
   "cell_type": "markdown",
   "metadata": {},
   "source": [
    "#### Parameters such as 'age', 'has_debt', 'amount_requested', 'risk_score', 'home_owner' shows strong correlation with the 'e_signed' feature"
   ]
  },
  {
   "cell_type": "code",
   "execution_count": 18,
   "metadata": {},
   "outputs": [
    {
     "data": {
      "text/plain": [
       "<matplotlib.axes._subplots.AxesSubplot at 0x14a5db50>"
      ]
     },
     "execution_count": 18,
     "metadata": {},
     "output_type": "execute_result"
    },
    {
     "data": {
      "image/png": "[encoded data removed]",
      "text/plain": [
       "<Figure size 1440x504 with 2 Axes>"
      ]
     },
     "metadata": {
      "needs_background": "light"
     },
     "output_type": "display_data"
    }
   ],
   "source": [
    "# visualizing a heatmap of correlation of features with each other :\n",
    "\n",
    "plt.figure(figsize=(20, 7))\n",
    "sns.heatmap(dataset.corr(), cmap='viridis')"
   ]
  },
  {
   "cell_type": "markdown",
   "metadata": {},
   "source": [
    "# III - Methodology "
   ]
  },
  {
   "cell_type": "markdown",
   "metadata": {},
   "source": [
    "## Data Preprocessing"
   ]
  },
  {
   "cell_type": "code",
   "execution_count": 19,
   "metadata": {},
   "outputs": [],
   "source": [
    "X = dataset.drop(columns=['e_signed']).values\n",
    "y = dataset['e_signed'].values"
   ]
  },
  {
   "cell_type": "code",
   "execution_count": 20,
   "metadata": {},
   "outputs": [],
   "source": [
    "# splitting the dataset into train and test :\n",
    "\n",
    "from sklearn.model_selection import train_test_split\n",
    "X_train, X_test, y_train, y_test = train_test_split(X, y, test_size=0.25, random_state=101)"
   ]
  },
  {
   "cell_type": "code",
   "execution_count": 21,
   "metadata": {},
   "outputs": [],
   "source": [
    "# feature scaling  :\n",
    "\n",
    "from sklearn.preprocessing import StandardScaler\n",
    "scaler = StandardScaler()\n",
    "\n",
    "X_train = scaler.fit_transform(X_train)\n",
    "X_test = scaler.transform(X_test)"
   ]
  },
  {
   "cell_type": "markdown",
   "metadata": {},
   "source": [
    "## Implementation "
   ]
  },
  {
   "cell_type": "code",
   "execution_count": 64,
   "metadata": {},
   "outputs": [],
   "source": [
    "# Logistic Regression Model :"
   ]
  },
  {
   "cell_type": "code",
   "execution_count": 22,
   "metadata": {},
   "outputs": [
    {
     "name": "stderr",
     "output_type": "stream",
     "text": [
      "c:\\users\\shubhendra kumar\\appdata\\local\\programs\\python\\python37-32\\lib\\site-packages\\sklearn\\linear_model\\logistic.py:432: FutureWarning: Default solver will be changed to 'lbfgs' in 0.22. Specify a solver to silence this warning.\n",
      "  FutureWarning)\n"
     ]
    }
   ],
   "source": [
    "# 1.) Using Logistic Regression as our first model \n",
    "\n",
    "from sklearn.linear_model import LogisticRegression\n",
    "\n",
    "logisticRegressionModel = LogisticRegression()\n",
    "\n",
    "t1_logistic_fit = time()\n",
    "logisticRegressionModel.fit(X_train, y_train)\n",
    "t2_logistic_fit = time()"
   ]
  },
  {
   "cell_type": "code",
   "execution_count": 23,
   "metadata": {},
   "outputs": [],
   "source": [
    "time_taken_by_logRegModel_to_fit = t2_logistic_fit - t1_logistic_fit"
   ]
  },
  {
   "cell_type": "code",
   "execution_count": null,
   "metadata": {},
   "outputs": [],
   "source": [
    "# The above model i.e. Logistic Regression was chosen because of its applicability in classifying into binary outputs and \n",
    "# since we have binary classification of our target predicted variable, hence we choose LogisticRegressionModel.   "
   ]
  },
  {
   "cell_type": "code",
   "execution_count": 24,
   "metadata": {},
   "outputs": [],
   "source": [
    "# predicting on the test dataset from the logistic Regression model :\n",
    "\n",
    "t1_logistic_predict = time()\n",
    "y_pred_logistic = logisticRegressionModel.predict(X_test)\n",
    "t2_logistic_predict = time()"
   ]
  },
  {
   "cell_type": "code",
   "execution_count": 25,
   "metadata": {},
   "outputs": [],
   "source": [
    "time_taken_by_logRegModel_to_predict = t2_logistic_predict - t1_logistic_predict"
   ]
  },
  {
   "cell_type": "code",
   "execution_count": 26,
   "metadata": {},
   "outputs": [
    {
     "name": "stdout",
     "output_type": "stream",
     "text": [
      "Time taken by logistic regression model to fit data  0.23372578620910645\n",
      "Time taken by logistic regression model to predict  0.0020020008087158203\n"
     ]
    }
   ],
   "source": [
    "print(\"Time taken by logistic regression model to fit data \", time_taken_by_logRegModel_to_fit)\n",
    "print(\"Time taken by logistic regression model to predict \", time_taken_by_logRegModel_to_predict)"
   ]
  },
  {
   "cell_type": "code",
   "execution_count": 65,
   "metadata": {},
   "outputs": [],
   "source": [
    "# SVM Model :"
   ]
  },
  {
   "cell_type": "code",
   "execution_count": 27,
   "metadata": {},
   "outputs": [],
   "source": [
    "# 1.) Using SVM as our second model :\n",
    "\n",
    "from sklearn.svm import SVC\n",
    "\n",
    "svm_model = SVC()\n",
    "\n",
    "t1_svm_fit = time()\n",
    "svm_model.fit(X_train, y_train)\n",
    "t2_svm_fit = time()"
   ]
  },
  {
   "cell_type": "code",
   "execution_count": 28,
   "metadata": {},
   "outputs": [],
   "source": [
    "time_taken_by_svmModel_to_fit = t2_svm_fit - t1_svm_fit"
   ]
  },
  {
   "cell_type": "code",
   "execution_count": 66,
   "metadata": {},
   "outputs": [],
   "source": [
    "# The above model i.e. SVM was chosen because of its applicability in classifying into binary outputs and \n",
    "# since we have data in huge quanitities and because of flexibility in hyper-tuning the hyper parameters of an SVM model, \n",
    "# this model was chosen."
   ]
  },
  {
   "cell_type": "code",
   "execution_count": 29,
   "metadata": {},
   "outputs": [],
   "source": [
    "# predicting on the test dataset from the logistic Regression model :\n",
    "\n",
    "t1_svm_predict = time()\n",
    "y_pred_svm = svm_model.predict(X_test)\n",
    "t2_svm_predict = time()"
   ]
  },
  {
   "cell_type": "code",
   "execution_count": 30,
   "metadata": {},
   "outputs": [],
   "source": [
    "time_taken_by_svmModel_to_predict = t2_svm_predict - t1_svm_predict"
   ]
  },
  {
   "cell_type": "code",
   "execution_count": 31,
   "metadata": {},
   "outputs": [
    {
     "name": "stdout",
     "output_type": "stream",
     "text": [
      "Time taken by svm model to fit data  39.00379204750061\n",
      "Time taken by svm model to predict  8.451874017715454\n"
     ]
    }
   ],
   "source": [
    "print(\"Time taken by svm model to fit data \", time_taken_by_svmModel_to_fit)\n",
    "print(\"Time taken by svm model to predict \", time_taken_by_svmModel_to_predict)"
   ]
  },
  {
   "cell_type": "code",
   "execution_count": 38,
   "metadata": {},
   "outputs": [],
   "source": [
    "# time taken to fit data :\n",
    "\n",
    "performance_model = {\"Fit time\":[time_taken_by_logRegModel_to_fit, time_taken_by_svmModel_to_fit], \n",
    "                     \"Predict time\":[time_taken_by_logRegModel_to_predict, time_taken_by_svmModel_to_predict]}\n",
    "\n",
    "performance_model_df = pd.DataFrame(performance_model, index=['logistic regression', 'svm']).reset_index()\n",
    "performance_model_df.rename(columns={'index':'Model'}, inplace=True)"
   ]
  },
  {
   "cell_type": "code",
   "execution_count": 39,
   "metadata": {},
   "outputs": [
    {
     "data": {
      "text/plain": [
       "Text(0.5, 1.0, \"EACH MODEL'S LEARNING TIME\")"
      ]
     },
     "execution_count": 39,
     "metadata": {},
     "output_type": "execute_result"
    },
    {
     "data": {
      "image/png": "[encoded data removed]",
      "text/plain": [
       "<Figure size 936x432 with 1 Axes>"
      ]
     },
     "metadata": {
      "needs_background": "light"
     },
     "output_type": "display_data"
    }
   ],
   "source": [
    "plt.figure(figsize=(13, 6))\n",
    "plt.bar(performance_model_df['Model'], performance_model_df['Fit time'], color='red')\n",
    "plt.xlabel('Model')\n",
    "plt.ylabel('Time Taken for Learning from data ')\n",
    "plt.title(\"EACH MODEL'S LEARNING TIME\")"
   ]
  },
  {
   "cell_type": "markdown",
   "metadata": {},
   "source": [
    ">SVM takes a lot of time to train whereas logistic regression model takes way less time to train and learn from data"
   ]
  },
  {
   "cell_type": "code",
   "execution_count": 40,
   "metadata": {},
   "outputs": [
    {
     "data": {
      "text/plain": [
       "Text(0.5, 1.0, \"EACH MODEL'S PREDICTION TIME\")"
      ]
     },
     "execution_count": 40,
     "metadata": {},
     "output_type": "execute_result"
    },
    {
     "data": {
      "image/png": "[encoded data removed]",
      "text/plain": [
       "<Figure size 936x432 with 1 Axes>"
      ]
     },
     "metadata": {
      "needs_background": "light"
     },
     "output_type": "display_data"
    }
   ],
   "source": [
    "plt.figure(figsize=(13, 6))\n",
    "plt.bar(performance_model_df['Model'], performance_model_df['Predict time'], color='blue')\n",
    "plt.xlabel('Model')\n",
    "plt.ylabel('Time Taken for Prediction')\n",
    "plt.title(\"EACH MODEL'S PREDICTION TIME\")"
   ]
  },
  {
   "cell_type": "markdown",
   "metadata": {},
   "source": [
    "> SVM takes more time to make predictions whereas logistic regression model takes less time to make predictions.\n",
    "  SVM has an accuracy of around 60.4 % whereas logistic regression model has an accuracy of around 57% on test data, hence we choose SVM model to develop the final model and perform tuning in the hyper parameters. "
   ]
  },
  {
   "cell_type": "markdown",
   "metadata": {},
   "source": [
    "## Refinement :"
   ]
  },
  {
   "cell_type": "code",
   "execution_count": 41,
   "metadata": {},
   "outputs": [
    {
     "data": {
      "text/plain": [
       "array([0.59598214, 0.60193452, 0.61830357, 0.59717051, 0.62844378,\n",
       "       0.60312733, 0.60089352, 0.60685034, 0.61997019, 0.585693  ])"
      ]
     },
     "execution_count": 41,
     "metadata": {},
     "output_type": "execute_result"
    }
   ],
   "source": [
    "# Using k-fold cross validation to evalute model performance :\n",
    "\n",
    "from sklearn.model_selection import cross_val_score\n",
    "\n",
    "cross_val = cross_val_score(estimator=svm_model, X=X_train, y=y_train, scoring='accuracy', cv=10, n_jobs=-1)\n",
    "cross_val"
   ]
  },
  {
   "cell_type": "code",
   "execution_count": 42,
   "metadata": {},
   "outputs": [
    {
     "data": {
      "text/plain": [
       "0.605836890763304"
      ]
     },
     "execution_count": 42,
     "metadata": {},
     "output_type": "execute_result"
    }
   ],
   "source": [
    "# mean accuracy :\n",
    "\n",
    "cross_val.mean()"
   ]
  },
  {
   "cell_type": "code",
   "execution_count": 43,
   "metadata": {},
   "outputs": [
    {
     "data": {
      "text/plain": [
       "0.012215861687252848"
      ]
     },
     "execution_count": 43,
     "metadata": {},
     "output_type": "execute_result"
    }
   ],
   "source": [
    "# standard deviation :\n",
    "\n",
    "cross_val.std()"
   ]
  },
  {
   "cell_type": "code",
   "execution_count": 44,
   "metadata": {},
   "outputs": [
    {
     "data": {
      "text/plain": [
       "GridSearchCV(cv=10, error_score='raise-deprecating',\n",
       "       estimator=SVC(C=1.0, cache_size=200, class_weight=None, coef0=0.0,\n",
       "  decision_function_shape='ovr', degree=3, gamma='auto_deprecated',\n",
       "  kernel='rbf', max_iter=-1, probability=False, random_state=None,\n",
       "  shrinking=True, tol=0.001, verbose=False),\n",
       "       fit_params=None, iid='warn', n_jobs=-1,\n",
       "       param_grid={'C': [0.01, 0.1, 1, 10], 'kernel': ['rbf']},\n",
       "       pre_dispatch='2*n_jobs', refit=True, return_train_score='warn',\n",
       "       scoring='accuracy', verbose=0)"
      ]
     },
     "execution_count": 44,
     "metadata": {},
     "output_type": "execute_result"
    }
   ],
   "source": [
    "from sklearn.model_selection import GridSearchCV\n",
    "\n",
    "param_grid = {'C':[0.01, 0.1, 1, 10], 'kernel':['linear','rbf']}\n",
    "\n",
    "gridSearchModel = GridSearchCV(estimator=svm_model, \n",
    "                               param_grid=param_grid, \n",
    "                               scoring='accuracy',\n",
    "                               cv=10,\n",
    "                               n_jobs=-1)\n",
    "\n",
    "gridSearchModel.fit(X_train, y_train)"
   ]
  },
  {
   "cell_type": "code",
   "execution_count": 45,
   "metadata": {},
   "outputs": [
    {
     "data": {
      "text/plain": [
       "{'C': 1, 'kernel': 'rbf'}"
      ]
     },
     "execution_count": 45,
     "metadata": {},
     "output_type": "execute_result"
    }
   ],
   "source": [
    "# best combination :\n",
    "\n",
    "gridSearchModel.best_params_"
   ]
  },
  {
   "cell_type": "code",
   "execution_count": 56,
   "metadata": {},
   "outputs": [
    {
     "data": {
      "text/plain": [
       "60.58372422008785"
      ]
     },
     "execution_count": 56,
     "metadata": {},
     "output_type": "execute_result"
    }
   ],
   "source": [
    "# best possible accuracy achieved by the best parametric combination :\n",
    "\n",
    "gridSearchModel.best_score_*100"
   ]
  },
  {
   "cell_type": "code",
   "execution_count": 47,
   "metadata": {},
   "outputs": [
    {
     "data": {
      "text/plain": [
       "SVC(C=1, cache_size=200, class_weight=None, coef0=0.0,\n",
       "  decision_function_shape='ovr', degree=3, gamma='auto_deprecated',\n",
       "  kernel='rbf', max_iter=-1, probability=False, random_state=None,\n",
       "  shrinking=True, tol=0.001, verbose=False)"
      ]
     },
     "execution_count": 47,
     "metadata": {},
     "output_type": "execute_result"
    }
   ],
   "source": [
    "# Redefining the SVM model with the new parametric combination : {'C': 1, 'kernel': 'rbf'}\n",
    "\n",
    "svm_tuned_model = SVC(C=1, kernel='rbf')\n",
    "svm_tuned_model.fit(X_train, y_train)"
   ]
  },
  {
   "cell_type": "code",
   "execution_count": 48,
   "metadata": {},
   "outputs": [],
   "source": [
    "y_pred_svm_tuned = svm_tuned_model.predict(X_test)"
   ]
  },
  {
   "cell_type": "markdown",
   "metadata": {},
   "source": [
    "# IV - Results\n",
    "\n",
    "## Model Evaluation and Validation"
   ]
  },
  {
   "cell_type": "code",
   "execution_count": 49,
   "metadata": {},
   "outputs": [
    {
     "name": "stdout",
     "output_type": "stream",
     "text": [
      "Accuracy by SVM Tuned Model 60.487 percent\n",
      "Precision by SVM Tuned Model 61.609 percent\n",
      "F1-score by SVM Tuned Model 65.469 percent\n",
      "Recall by SVM Tuned Model 69.846 percent\n"
     ]
    }
   ],
   "source": [
    "# Metrics for the hyper tuned model after grid search :\n",
    "\n",
    "print(\"Accuracy by SVM Tuned Model %0.3F percent\" %( accuracy_score(y_test, y_pred_svm_tuned)*100))\n",
    "print(\"Precision by SVM Tuned Model %0.3F percent\" %( precision_score(y_test, y_pred_svm_tuned)*100))\n",
    "print(\"F1-score by SVM Tuned Model %0.3F percent\" %( f1_score(y_test, y_pred_svm_tuned)*100))\n",
    "print(\"Recall by SVM Tuned Model %0.3F percent\" %( recall_score(y_test, y_pred_svm_tuned)*100))"
   ]
  },
  {
   "cell_type": "code",
   "execution_count": 67,
   "metadata": {},
   "outputs": [
    {
     "data": {
      "text/plain": [
       "SVC(C=1, cache_size=200, class_weight=None, coef0=0.0,\n",
       "  decision_function_shape='ovr', degree=3, gamma='auto_deprecated',\n",
       "  kernel='rbf', max_iter=-1, probability=False, random_state=None,\n",
       "  shrinking=True, tol=0.001, verbose=False)"
      ]
     },
     "execution_count": 67,
     "metadata": {},
     "output_type": "execute_result"
    }
   ],
   "source": [
    "# final tuned svm model hyper parameters :\n",
    "\n",
    "gridSearchModel.best_estimator_"
   ]
  },
  {
   "cell_type": "code",
   "execution_count": 36,
   "metadata": {},
   "outputs": [
    {
     "data": {
      "text/plain": [
       "<matplotlib.axes._subplots.AxesSubplot at 0x164fa7b0>"
      ]
     },
     "execution_count": 36,
     "metadata": {},
     "output_type": "execute_result"
    },
    {
     "data": {
      "image/png": "[encoded data removed]",
      "text/plain": [
       "<Figure size 432x288 with 2 Axes>"
      ]
     },
     "metadata": {
      "needs_background": "light"
     },
     "output_type": "display_data"
    }
   ],
   "source": [
    "# Confusion matrix for logistic Regression model :\n",
    "\n",
    "sns.heatmap(confusion_matrix(y_test, y_pred_logistic), annot=True, fmt='g')"
   ]
  },
  {
   "cell_type": "code",
   "execution_count": 37,
   "metadata": {},
   "outputs": [
    {
     "data": {
      "text/plain": [
       "<matplotlib.axes._subplots.AxesSubplot at 0x24296dd0>"
      ]
     },
     "execution_count": 37,
     "metadata": {},
     "output_type": "execute_result"
    },
    {
     "data": {
      "image/png": "[encoded data removed]",
      "text/plain": [
       "<Figure size 432x288 with 2 Axes>"
      ]
     },
     "metadata": {
      "needs_background": "light"
     },
     "output_type": "display_data"
    }
   ],
   "source": [
    "# Confusion matrix for SVM model :\n",
    "\n",
    "sns.heatmap(confusion_matrix(y_test, y_pred_svm), annot=True, fmt='g')"
   ]
  },
  {
   "cell_type": "code",
   "execution_count": 32,
   "metadata": {},
   "outputs": [
    {
     "name": "stdout",
     "output_type": "stream",
     "text": [
      "              precision    recall  f1-score   support\n",
      "\n",
      "           0       0.55      0.40      0.46      2076\n",
      "           1       0.58      0.72      0.64      2401\n",
      "\n",
      "   micro avg       0.57      0.57      0.57      4477\n",
      "   macro avg       0.57      0.56      0.55      4477\n",
      "weighted avg       0.57      0.57      0.56      4477\n",
      "\n"
     ]
    }
   ],
   "source": [
    "# Evaluating the metrics of the logistic Regression model :\n",
    "\n",
    "from sklearn.metrics import classification_report, confusion_matrix, accuracy_score, f1_score, recall_score, precision_score\n",
    "print(classification_report(y_test, y_pred_logistic))"
   ]
  },
  {
   "cell_type": "code",
   "execution_count": 33,
   "metadata": {},
   "outputs": [
    {
     "name": "stdout",
     "output_type": "stream",
     "text": [
      "              precision    recall  f1-score   support\n",
      "\n",
      "           0       0.59      0.50      0.54      2076\n",
      "           1       0.62      0.70      0.65      2401\n",
      "\n",
      "   micro avg       0.60      0.60      0.60      4477\n",
      "   macro avg       0.60      0.60      0.60      4477\n",
      "weighted avg       0.60      0.60      0.60      4477\n",
      "\n"
     ]
    }
   ],
   "source": [
    "# Evaluating the metric of the SVM model :\n",
    "\n",
    "print(classification_report(y_test, y_pred_svm))"
   ]
  },
  {
   "cell_type": "code",
   "execution_count": 34,
   "metadata": {},
   "outputs": [
    {
     "name": "stdout",
     "output_type": "stream",
     "text": [
      "Accuracy by logisticRegression Model 57.069 percent\n",
      "Precision by logisticRegression Model 58.018 percent\n",
      "f1_score by logisticRegression Model 64.328 percent\n",
      "recall_score by logisticRegression Model 72.178 percent\n"
     ]
    }
   ],
   "source": [
    "print(\"Accuracy by logisticRegression Model %0.3F percent\" %( accuracy_score(y_test, y_pred_logistic)*100))\n",
    "print(\"Precision by logisticRegression Model %0.3F percent\" %( precision_score(y_test, y_pred_logistic)*100))\n",
    "print(\"f1_score by logisticRegression Model %0.3F percent\" %( f1_score(y_test, y_pred_logistic)*100))\n",
    "print(\"recall_score by logisticRegression Model %0.3F percent\" %( recall_score(y_test, y_pred_logistic)*100))"
   ]
  },
  {
   "cell_type": "code",
   "execution_count": 35,
   "metadata": {},
   "outputs": [
    {
     "name": "stdout",
     "output_type": "stream",
     "text": [
      "Accuracy by SVM model 60.487 percent\n",
      "Precision by SVM model 61.609 percent\n",
      "f1_score by SVM model 65.469 percent\n",
      "recall_score by SVM model 69.846 percent\n"
     ]
    }
   ],
   "source": [
    "print(\"Accuracy by SVM model %0.3F percent\" %( accuracy_score(y_test, y_pred_svm)*100))\n",
    "print(\"Precision by SVM model %0.3F percent\" %( precision_score(y_test, y_pred_svm)*100))\n",
    "print(\"f1_score by SVM model %0.3F percent\" %( f1_score(y_test, y_pred_svm)*100))\n",
    "print(\"recall_score by SVM model %0.3F percent\" %( recall_score(y_test, y_pred_svm)*100))"
   ]
  },
  {
   "cell_type": "markdown",
   "metadata": {},
   "source": [
    "## Justification AND Free-Form Visualization"
   ]
  },
  {
   "cell_type": "code",
   "execution_count": 50,
   "metadata": {},
   "outputs": [
    {
     "data": {
      "image/png": "[encoded data removed]",
      "text/plain": [
       "<Figure size 432x288 with 1 Axes>"
      ]
     },
     "metadata": {
      "needs_background": "light"
     },
     "output_type": "display_data"
    }
   ],
   "source": [
    "# plotting the accuracy of the initial svm model vs hypertuned svm model :\n",
    "\n",
    "plt.bar(x=['gridsearch svm model', 'original svm model'], height=[gridSearchModel.best_score_, accuracy_score(y_test, svm_model.predict(X_test))])\n",
    "plt.title(\"hypertuned svm model VS original svm model\")\n",
    "plt.ylabel(\"accuracy score of the model\")\n",
    "plt.show()"
   ]
  },
  {
   "cell_type": "code",
   "execution_count": 68,
   "metadata": {},
   "outputs": [],
   "source": [
    "# The difference might not be visible in the above 2 bar plots but the tuned model gives 0.10 % more accuracy than the original\n",
    "# svm model upon operating on the common test data for both the 2 models."
   ]
  },
  {
   "cell_type": "code",
   "execution_count": 52,
   "metadata": {},
   "outputs": [],
   "source": [
    "# difference between the logistic regression model vs the svm model :\n",
    "\n",
    "dict_logisticRegressionModel = {\"Accuracy\" : [accuracy_score(y_test, logisticRegressionModel.predict(X_test))], \n",
    "                                \"Precision\" : [precision_score(y_test, logisticRegressionModel.predict(X_test))],\n",
    "                                \"Recall\" : [recall_score(y_test,logisticRegressionModel.predict(X_test))],\n",
    "                                 \"F1-score\" : [f1_score(y_test,logisticRegressionModel.predict(X_test))]}\n",
    "\n",
    "dict_svmModel = {\"Accuracy\" : [accuracy_score(y_test, svm_tuned_model.predict(X_test))], \n",
    "                                \"Precision\" : [precision_score(y_test, svm_tuned_model.predict(X_test))],\n",
    "                                \"Recall\" : [recall_score(y_test,svm_tuned_model.predict(X_test))],\n",
    "                                 \"F1-score\" : [f1_score(y_test,svm_tuned_model.predict(X_test))]}\n",
    "\n",
    "df_logistic = pd.DataFrame(dict_logisticRegressionModel).transpose()\n",
    "df_svm = pd.DataFrame(dict_svmModel).transpose()"
   ]
  },
  {
   "cell_type": "code",
   "execution_count": 53,
   "metadata": {},
   "outputs": [
    {
     "data": {
      "text/html": [
       "<div>\n",
       "<style scoped>\n",
       "    .dataframe tbody tr th:only-of-type {\n",
       "        vertical-align: middle;\n",
       "    }\n",
       "\n",
       "    .dataframe tbody tr th {\n",
       "        vertical-align: top;\n",
       "    }\n",
       "\n",
       "    .dataframe thead th {\n",
       "        text-align: right;\n",
       "    }\n",
       "</style>\n",
       "<table border=\"1\" class=\"dataframe\">\n",
       "  <thead>\n",
       "    <tr style=\"text-align: right;\">\n",
       "      <th></th>\n",
       "      <th>logisticRegression model</th>\n",
       "      <th>svm model</th>\n",
       "    </tr>\n",
       "  </thead>\n",
       "  <tbody>\n",
       "    <tr>\n",
       "      <th>Accuracy</th>\n",
       "      <td>0.570695</td>\n",
       "      <td>0.604869</td>\n",
       "    </tr>\n",
       "    <tr>\n",
       "      <th>Precision</th>\n",
       "      <td>0.580181</td>\n",
       "      <td>0.616091</td>\n",
       "    </tr>\n",
       "    <tr>\n",
       "      <th>Recall</th>\n",
       "      <td>0.721783</td>\n",
       "      <td>0.698459</td>\n",
       "    </tr>\n",
       "    <tr>\n",
       "      <th>F1-score</th>\n",
       "      <td>0.643281</td>\n",
       "      <td>0.654695</td>\n",
       "    </tr>\n",
       "  </tbody>\n",
       "</table>\n",
       "</div>"
      ],
      "text/plain": [
       "           logisticRegression model  svm model\n",
       "Accuracy                   0.570695   0.604869\n",
       "Precision                  0.580181   0.616091\n",
       "Recall                     0.721783   0.698459\n",
       "F1-score                   0.643281   0.654695"
      ]
     },
     "execution_count": 53,
     "metadata": {},
     "output_type": "execute_result"
    }
   ],
   "source": [
    "# Generating the evaluatingMetrics dataframe :\n",
    "\n",
    "evaluationModels = pd.concat([df_logistic, df_svm], axis=1)\n",
    "evaluationModels.columns = [\"logisticRegression model\", \"svm model\"]\n",
    "evaluationModels"
   ]
  },
  {
   "cell_type": "code",
   "execution_count": 54,
   "metadata": {},
   "outputs": [
    {
     "data": {
      "text/plain": [
       "<matplotlib.axes._subplots.AxesSubplot at 0x2437eb50>"
      ]
     },
     "execution_count": 54,
     "metadata": {},
     "output_type": "execute_result"
    },
    {
     "data": {
      "image/png": "[encoded data removed]",
      "text/plain": [
       "<Figure size 1080x504 with 1 Axes>"
      ]
     },
     "metadata": {
      "needs_background": "light"
     },
     "output_type": "display_data"
    }
   ],
   "source": [
    "# logistic regression model :\n",
    "\n",
    "plt.figure(figsize=(15, 7))\n",
    "sns.barplot(data=evaluationModels, x=evaluationModels.index, y='logisticRegression model')"
   ]
  },
  {
   "cell_type": "code",
   "execution_count": 55,
   "metadata": {},
   "outputs": [
    {
     "data": {
      "text/plain": [
       "<matplotlib.axes._subplots.AxesSubplot at 0x24a94cd0>"
      ]
     },
     "execution_count": 55,
     "metadata": {},
     "output_type": "execute_result"
    },
    {
     "data": {
      "image/png": "[encoded data removed]",
      "text/plain": [
       "<Figure size 1080x504 with 1 Axes>"
      ]
     },
     "metadata": {
      "needs_background": "light"
     },
     "output_type": "display_data"
    }
   ],
   "source": [
    "# SVM model :\n",
    "\n",
    "plt.figure(figsize=(15, 7))\n",
    "sns.barplot(data=evaluationModels, x=evaluationModels.index, y='svm model', )"
   ]
  },
  {
   "cell_type": "markdown",
   "metadata": {},
   "source": [
    "The results of the svm model is far better than the logistic regression model which was the benchmark model. The benchmark model outperforms the svm model only for the case of Recall score which implies the number of people to whom the model predicts 1 (Will sign E-loan) but actually didn’t sign the loan are very less in the logistic regression model i.e. the number of false negatives are less as predicted in case of the benchmark model. Else for precision, f1_score and accuracy, the svm tuned model outperforms the logistic regression.\n",
    "The final solution which is the hyper-parameter tuned svm model is significant enough to solve the problem of predicting the customer’s E-signing a loan based on his financial history"
   ]
  },
  {
   "cell_type": "code",
   "execution_count": 73,
   "metadata": {},
   "outputs": [
    {
     "data": {
      "text/plain": [
       "array([0], dtype=int64)"
      ]
     },
     "execution_count": 73,
     "metadata": {},
     "output_type": "execute_result"
    }
   ],
   "source": [
    "# Testing the model prediction randomly :\n",
    "\n",
    "input_feature = [[   53.        ,     0.        ,  5735.        ,     3.        ,\n",
    "           1.        ,   600.        , 45550.        ,     0.5018958 ,\n",
    "           0.77895493,     0.62006953,     0.69431089,     0.756914  ,\n",
    "           0.756914  ,    10.        ,     0.        ,     0.        ,\n",
    "           1.        ,     0.        ,    60.        ,    54.        ]]\n",
    "\n",
    "input_feat_scaled = scaler.transform(input_feature)  # feature scaling the input test data \n",
    "\n",
    "svm_tuned_model.predict(input_feat_scaled) \n",
    "\n",
    "\n",
    "'''\n",
    "0 as output which means the person will not sign the E-Loan if provided with this opportunity.\n",
    "Hence this customer can be targeted with much better services or schemes in special \n",
    "\n",
    "'''"
   ]
  },
  {
   "cell_type": "markdown",
   "metadata": {},
   "source": [
    "# V - CONCLUSION"
   ]
  },
  {
   "cell_type": "markdown",
   "metadata": {},
   "source": [
    "## Reflection "
   ]
  },
  {
   "cell_type": "markdown",
   "metadata": {},
   "source": [
    "The project shall start by incorporating the dataset into the IPython notebook. At the first stage, the data shall be tried for cleaning where presence of any possible outliers or Null values shall be removed or rectified. Then Exploratory analysis shall be performed which would include several statistical visualization plots to understand the data and features more clearly. This phase shall be followed by selecting appropriate features for our models and then developing two of the popular classification models i.e. logistic regression and SVM for evaluation on the test set. \n",
    "1.\tAs per the process, we preprocessed the data after exploratory analysis and during data preprocessing, feature scaling was performed to normalize all the statistical observations in our dataset.\n",
    "2.\tTwo data models for classification were selected i.e. Logistic Regression and Support Vector Machine classifier. Logistic regression model is suited for binary classification hence used a benchmark model. \n",
    "3.\tThe data was split into training (75%) and testing (25%) dataset size. Both the models were fitted with the training dataset and the learning time for both the models was recorded. \n",
    "4.\tThe models were made to perform prediction on the test dataset with the prediction time being also recorded for each model.\t\n",
    "\n",
    "\n",
    "The interesting part about developing models was the fact that although SVM model gave more accuracy and outperformed the benchmark model in all the scoring metrics, yet it was heavy on computation for learning and predicting for data. Hence when the dataset is heavy, also other algorithms should be tried that could reduce the computation time for learning and prediction. Also logistic regression trained and predicted itself efficiently thereby reducing down the number of heavy computation.\n",
    "The difficult part was performing grid search using k-fold cross validation on the training dataset for the svm model. Since it had already been noticed of the much more time and computation invested for learning and predicting, therefore grid search for the svm model, increased the computation and it took a lot of time (more than 40 minutes) to complete the grid search for all the possible combinations of the parameter list provided.\n",
    "The final solution is very much optimized and is a better option for performing on new data for deducing inferences and predictions. Since the size of the dataset was hugh in our case, hence svm, even though took more time to learn and train itself, gave good results on evaluating metrics than as compared to other benchmark models.\n"
   ]
  },
  {
   "cell_type": "markdown",
   "metadata": {},
   "source": [
    "## Improvement"
   ]
  },
  {
   "cell_type": "markdown",
   "metadata": {},
   "source": [
    "+ Final improvement could be made by using ensemble learning methods in machine learning by developing a model that is itself a combination of 2 or more machine learning algorithms.\n",
    "\n",
    "+ Using ensemble in random forest classifier might have yielded out a better model though with less training time and less prediction time as against SVM classifier model.\n"
   ]
  },
  {
   "cell_type": "markdown",
   "metadata": {},
   "source": [
    "## *FINAL CONCLUSION*:"
   ]
  },
  {
   "cell_type": "markdown",
   "metadata": {},
   "source": [
    "### *Now our model has given us the  60.60 % percent accuracy. We have an algorithm that can help predict whether or not a user will complete this e-signed step. One way to leverage this model is to target those predicted not to reach the same pace with customized onboarding. This means that when the lead arrives from our marketplace they may receive a different onboarding experience based on how likely they are to finish the general onboarding process. This can help our company minimize how many people drop off from the funnel. This is entirely about how we decide the onboarding so we can maximize how many people can reach that.  So with new onboarding screens built intentionally to lead these users to finalize the loan application. We can actually attempt to get more than 40 percent of those predicted not to finish the process to actually complete the e-sign step. We know that our model has a running 60 percent accuracy. So even if all the people who have predicted not to reach the esign step 60 percent of them have been correctly predicted on average of course,  this means that only around 36 to 40 percent of the subset of people are expected to reach the esign step into complete it. So if we can change the onboarding process so we can get more than the 36 to 40 percent number and if we can increase it then we can drastically increase profits.*\n"
   ]
  }
 ],
 "metadata": {
  "kernelspec": {
   "display_name": "Python 3",
   "language": "python",
   "name": "python3"
  },
  "language_info": {
   "codemirror_mode": {
    "name": "ipython",
    "version": 3
   },
   "file_extension": ".py",
   "mimetype": "text/x-python",
   "name": "python",
   "nbconvert_exporter": "python",
   "pygments_lexer": "ipython3",
   "version": "3.7.1"
  }
 },
 "nbformat": 4,
 "nbformat_minor": 2
}
